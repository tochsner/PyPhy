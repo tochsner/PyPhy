{
 "cells": [
  {
   "cell_type": "code",
   "execution_count": 2,
   "metadata": {},
   "outputs": [
    {
     "name": "stdout",
     "output_type": "stream",
     "text": [
      "Wrapped type: None\n",
      "Wrapped type: None\n"
     ]
    }
   ],
   "source": [
    "from typing import Generic, TypeVar, get_args\n",
    "\n",
    "# Define a type variable\n",
    "T = TypeVar('T')\n",
    "\n",
    "# Make your class explicitly Generic\n",
    "class MyClass(Generic[T]):\n",
    "    def __init__(self):\n",
    "        # Get class and extract type parameters\n",
    "        cls = self.__class__\n",
    "        \n",
    "        # Get the type arguments\n",
    "        type_args = get_args(cls)\n",
    "        self.wrapped_type = type_args[0] if type_args else None\n",
    "        \n",
    "        print(f\"Wrapped type: {self.wrapped_type}\")\n",
    "\n",
    "# Create instances with different type parameters\n",
    "a = MyClass[float]()  # Should print: Wrapped type: <class 'float'>\n",
    "b = MyClass[str]()    # Should print: Wrapped type: <class 'str'>"
   ]
  },
  {
   "cell_type": "code",
   "execution_count": 21,
   "metadata": {},
   "outputs": [
    {
     "ename": "TypeError",
     "evalue": "(<class 'int'>,) is not a module, class, method, or function.",
     "output_type": "error",
     "traceback": [
      "\u001b[31m---------------------------------------------------------------------------\u001b[39m",
      "\u001b[31mTypeError\u001b[39m                                 Traceback (most recent call last)",
      "\u001b[36mCell\u001b[39m\u001b[36m \u001b[39m\u001b[32mIn[21]\u001b[39m\u001b[32m, line 14\u001b[39m\n\u001b[32m     10\u001b[39m         \u001b[38;5;28mcls\u001b[39m._type_T = get_args(\u001b[38;5;28mcls\u001b[39m.__orig_bases__[\u001b[32m0\u001b[39m])[\u001b[32m0\u001b[39m]  \u001b[38;5;66;03m# type: ignore\u001b[39;00m\n\u001b[32m     11\u001b[39m         \u001b[38;5;28mprint\u001b[39m(get_type_hints(get_args(\u001b[38;5;28mcls\u001b[39m.__orig_bases__[\u001b[32m0\u001b[39m])))\n\u001b[32m---> \u001b[39m\u001b[32m14\u001b[39m \u001b[38;5;28;43;01mclass\u001b[39;49;00m\u001b[38;5;250;43m \u001b[39;49m\u001b[34;43;01mSomeBaseClass\u001b[39;49;00m\u001b[43m(\u001b[49m\u001b[43mMyGenericClass\u001b[49m\u001b[43m[\u001b[49m\u001b[38;5;28;43mint\u001b[39;49m\u001b[43m]\u001b[49m\u001b[43m)\u001b[49m\u001b[43m:\u001b[49m\n\u001b[32m     15\u001b[39m \u001b[43m    \u001b[49m\u001b[38;5;28;43;01mdef\u001b[39;49;00m\u001b[38;5;250;43m \u001b[39;49m\u001b[34;43m__init__\u001b[39;49m\u001b[43m(\u001b[49m\u001b[38;5;28;43mself\u001b[39;49m\u001b[43m)\u001b[49m\u001b[43m \u001b[49m\u001b[43m-\u001b[49m\u001b[43m>\u001b[49m\u001b[43m \u001b[49m\u001b[38;5;28;43;01mNone\u001b[39;49;00m\u001b[43m:\u001b[49m\n\u001b[32m     16\u001b[39m \u001b[43m        \u001b[49m\u001b[38;5;28;43mprint\u001b[39;49m\u001b[43m(\u001b[49m\u001b[38;5;28;43mself\u001b[39;49m\u001b[43m.\u001b[49m\u001b[43m_type_T\u001b[49m\u001b[43m)\u001b[49m\n",
      "\u001b[36mCell\u001b[39m\u001b[36m \u001b[39m\u001b[32mIn[21]\u001b[39m\u001b[32m, line 11\u001b[39m, in \u001b[36mMyGenericClass.__init_subclass__\u001b[39m\u001b[34m(cls)\u001b[39m\n\u001b[32m      9\u001b[39m \u001b[38;5;28;01mdef\u001b[39;00m\u001b[38;5;250m \u001b[39m\u001b[34m__init_subclass__\u001b[39m(\u001b[38;5;28mcls\u001b[39m) -> \u001b[38;5;28;01mNone\u001b[39;00m:\n\u001b[32m     10\u001b[39m     \u001b[38;5;28mcls\u001b[39m._type_T = get_args(\u001b[38;5;28mcls\u001b[39m.__orig_bases__[\u001b[32m0\u001b[39m])[\u001b[32m0\u001b[39m]  \u001b[38;5;66;03m# type: ignore\u001b[39;00m\n\u001b[32m---> \u001b[39m\u001b[32m11\u001b[39m     \u001b[38;5;28mprint\u001b[39m(\u001b[43mget_type_hints\u001b[49m\u001b[43m(\u001b[49m\u001b[43mget_args\u001b[49m\u001b[43m(\u001b[49m\u001b[38;5;28;43mcls\u001b[39;49m\u001b[43m.\u001b[49m\u001b[43m__orig_bases__\u001b[49m\u001b[43m[\u001b[49m\u001b[32;43m0\u001b[39;49m\u001b[43m]\u001b[49m\u001b[43m)\u001b[49m\u001b[43m)\u001b[49m)\n",
      "\u001b[36mFile \u001b[39m\u001b[32m/opt/homebrew/Cellar/python@3.13/3.13.2/Frameworks/Python.framework/Versions/3.13/lib/python3.13/typing.py:2484\u001b[39m, in \u001b[36mget_type_hints\u001b[39m\u001b[34m(obj, globalns, localns, include_extras)\u001b[39m\n\u001b[32m   2482\u001b[39m         \u001b[38;5;28;01mreturn\u001b[39;00m {}\n\u001b[32m   2483\u001b[39m     \u001b[38;5;28;01melse\u001b[39;00m:\n\u001b[32m-> \u001b[39m\u001b[32m2484\u001b[39m         \u001b[38;5;28;01mraise\u001b[39;00m \u001b[38;5;167;01mTypeError\u001b[39;00m(\u001b[33m'\u001b[39m\u001b[38;5;132;01m{!r}\u001b[39;00m\u001b[33m is not a module, class, method, \u001b[39m\u001b[33m'\u001b[39m\n\u001b[32m   2485\u001b[39m                         \u001b[33m'\u001b[39m\u001b[33mor function.\u001b[39m\u001b[33m'\u001b[39m.format(obj))\n\u001b[32m   2486\u001b[39m hints = \u001b[38;5;28mdict\u001b[39m(hints)\n\u001b[32m   2487\u001b[39m type_params = \u001b[38;5;28mgetattr\u001b[39m(obj, \u001b[33m\"\u001b[39m\u001b[33m__type_params__\u001b[39m\u001b[33m\"\u001b[39m, ())\n",
      "\u001b[31mTypeError\u001b[39m: (<class 'int'>,) is not a module, class, method, or function."
     ]
    }
   ],
   "source": [
    "from typing import Any, Generic, TypeVar, get_args, get_type_hints\n",
    "\n",
    "T = TypeVar(\"T\")\n",
    "\n",
    "\n",
    "class MyGenericClass(Generic[T]):\n",
    "    _type_T: Any\n",
    "\n",
    "    def __init_subclass__(cls) -> None:\n",
    "        cls._type_T = get_args(cls.__orig_bases__[0])[0]  # type: ignore\n",
    "        print(get_type_hints(get_args(cls.__orig_bases__[0])))\n",
    "\n",
    "\n",
    "class SomeBaseClass(MyGenericClass[int]):\n",
    "    def __init__(self) -> None:\n",
    "        print(self._type_T)\n",
    "\n",
    "\n",
    "class SomeOtherClass(MyGenericClass[float]):\n",
    "    def __init__(self) -> None:\n",
    "        print(self._type_T)\n",
    "        print(get_type_hints(self._type_T))\n",
    "\n",
    "\n",
    "SomeBaseClass()  # prints \"<class 'int'>\"\n",
    "SomeOtherClass()\n",
    "SomeBaseClass()"
   ]
  },
  {
   "cell_type": "code",
   "execution_count": 16,
   "metadata": {},
   "outputs": [
    {
     "data": {
      "text/plain": [
       "int"
      ]
     },
     "execution_count": 16,
     "metadata": {},
     "output_type": "execute_result"
    }
   ],
   "source": [
    "SomeBaseClass._type_T"
   ]
  },
  {
   "cell_type": "code",
   "execution_count": 24,
   "metadata": {},
   "outputs": [],
   "source": [
    "a: list[float] = []"
   ]
  },
  {
   "cell_type": "code",
   "execution_count": 27,
   "metadata": {},
   "outputs": [
    {
     "data": {
      "text/plain": [
       "'list'"
      ]
     },
     "execution_count": 27,
     "metadata": {},
     "output_type": "execute_result"
    }
   ],
   "source": [
    "(list[float]).__name__"
   ]
  },
  {
   "cell_type": "code",
   "execution_count": null,
   "metadata": {},
   "outputs": [],
   "source": []
  }
 ],
 "metadata": {
  "kernelspec": {
   "display_name": ".venv",
   "language": "python",
   "name": "python3"
  },
  "language_info": {
   "codemirror_mode": {
    "name": "ipython",
    "version": 3
   },
   "file_extension": ".py",
   "mimetype": "text/x-python",
   "name": "python",
   "nbconvert_exporter": "python",
   "pygments_lexer": "ipython3",
   "version": "3.13.2"
  }
 },
 "nbformat": 4,
 "nbformat_minor": 2
}
